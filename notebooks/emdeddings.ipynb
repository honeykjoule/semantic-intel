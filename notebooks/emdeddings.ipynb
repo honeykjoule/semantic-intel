{
 "cells": [
  {
   "cell_type": "code",
   "execution_count": 1,
   "id": "45c3d2fe-d17b-436d-9a35-5d2e0b92ef9f",
   "metadata": {},
   "outputs": [
    {
     "ename": "ModuleNotFoundError",
     "evalue": "No module named 'cohere'",
     "output_type": "error",
     "traceback": [
      "\u001b[0;31m---------------------------------------------------------------------------\u001b[0m",
      "\u001b[0;31mModuleNotFoundError\u001b[0m                       Traceback (most recent call last)",
      "\u001b[1;32m/Users/honey/Code/semantic-intel/notebooks/emdeddings.ipynb Cell 1\u001b[0m line \u001b[0;36m1\n\u001b[0;32m----> <a href='vscode-notebook-cell:/Users/honey/Code/semantic-intel/notebooks/emdeddings.ipynb#W0sZmlsZQ%3D%3D?line=0'>1</a>\u001b[0m \u001b[39mimport\u001b[39;00m \u001b[39mcohere\u001b[39;00m\n\u001b[1;32m      <a href='vscode-notebook-cell:/Users/honey/Code/semantic-intel/notebooks/emdeddings.ipynb#W0sZmlsZQ%3D%3D?line=1'>2</a>\u001b[0m \u001b[39mimport\u001b[39;00m \u001b[39mnumpy\u001b[39;00m \u001b[39mas\u001b[39;00m \u001b[39mnp\u001b[39;00m\n\u001b[1;32m      <a href='vscode-notebook-cell:/Users/honey/Code/semantic-intel/notebooks/emdeddings.ipynb#W0sZmlsZQ%3D%3D?line=3'>4</a>\u001b[0m co \u001b[39m=\u001b[39m cohere\u001b[39m.\u001b[39mClient(\u001b[39m'\u001b[39m\u001b[39mJFEqxjeMhSbsTo7NJ23mCpybCtD3w7xKO2V5zpm5\u001b[39m\u001b[39m'\u001b[39m)\n",
      "\u001b[0;31mModuleNotFoundError\u001b[0m: No module named 'cohere'"
     ]
    }
   ],
   "source": [
    "import cohere\n",
    "import numpy as np\n",
    "\n",
    "co = cohere.Client('JFEqxjeMhSbsTo7NJ23mCpybCtD3w7xKO2V5zpm5')"
   ]
  }
 ],
 "metadata": {
  "kernelspec": {
   "display_name": "Python 3 (ipykernel)",
   "language": "python",
   "name": "python3"
  },
  "language_info": {
   "codemirror_mode": {
    "name": "ipython",
    "version": 3
   },
   "file_extension": ".py",
   "mimetype": "text/x-python",
   "name": "python",
   "nbconvert_exporter": "python",
   "pygments_lexer": "ipython3",
   "version": "3.12.0"
  }
 },
 "nbformat": 4,
 "nbformat_minor": 5
}
